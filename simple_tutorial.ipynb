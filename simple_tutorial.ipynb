{
  "nbformat": 4,
  "nbformat_minor": 0,
  "metadata": {
    "colab": {
      "name": "simple_tutorial.ipynb",
      "provenance": [],
      "collapsed_sections": []
    },
    "kernelspec": {
      "name": "python3",
      "display_name": "Python 3"
    },
    "language_info": {
      "name": "python"
    }
  },
  "cells": [
    {
      "cell_type": "markdown",
      "metadata": {
        "id": "fadayG-iwor8"
      },
      "source": [
        "# Get Started With Python\n",
        "\n",
        "Hello everybody! I am **Siddharth**. This is a tutorial on how to use the print and input functions and the if, elif, and else statements, for loop, and the while loop!\n",
        "\n",
        "# The print() function\n",
        "you can put strings on the screen with the print funtion. Strings are like words or letters\n",
        "\n",
        "## example:\n"
      ]
    },
    {
      "cell_type": "code",
      "metadata": {
        "colab": {
          "base_uri": "https://localhost:8080/"
        },
        "id": "vYp3tFm-wvBk",
        "outputId": "b2bf92e1-9c7f-4be2-ec5c-207eb2981cb8"
      },
      "source": [
        "print(\"hello world!\")"
      ],
      "execution_count": 5,
      "outputs": [
        {
          "output_type": "stream",
          "text": [
            "hello world!\n"
          ],
          "name": "stdout"
        }
      ]
    },
    {
      "cell_type": "markdown",
      "metadata": {
        "id": "P-Wkf2vOxBEH"
      },
      "source": [
        "You can print very simple math calculations in python.\n",
        "For ex:\n"
      ]
    },
    {
      "cell_type": "code",
      "metadata": {
        "colab": {
          "base_uri": "https://localhost:8080/"
        },
        "id": "9NdYAua6xHtN",
        "outputId": "e2be7a64-2eb1-4baa-e4c8-386bca08cafe"
      },
      "source": [
        "print(1 + 1 - 1 + 1 + 1)\n"
      ],
      "execution_count": 6,
      "outputs": [
        {
          "output_type": "stream",
          "text": [
            "3\n"
          ],
          "name": "stdout"
        }
      ]
    },
    {
      "cell_type": "markdown",
      "metadata": {
        "id": "a6mAby6lx1Ur"
      },
      "source": [
        "You can print things based on inputs\n"
      ]
    },
    {
      "cell_type": "code",
      "metadata": {
        "id": "S21TFPtFxrLr"
      },
      "source": [
        "# we are making a variables value an input\n",
        "inp = input(\"enter number:  \")\n",
        "#we will convert this to an integer\n",
        "inp = int(inp)\n",
        "h = 1\n",
        "g = inp + h\n",
        "print(\"%d + %d = %d\" % (h, inp, g))\n"
      ],
      "execution_count": null,
      "outputs": []
    },
    {
      "cell_type": "markdown",
      "metadata": {
        "id": "VU9QMVZYx4zb"
      },
      "source": [
        "## If and else:\n",
        "If and else mean exactly what they mean\n",
        "If something happens then\n",
        "do this\n",
        "else then\n",
        "do this\n",
        "you can use something called \"elif\". Before else, you can put elif there. elif means else if.\n",
        "When you want to see if someones input is something specific, you might be thinking you use 1 = sign.\n",
        "You actually use 2 = signs. Like this: ==.\n",
        "When you use 1 =, you use that to assign a variables value\n",
        "## example of if, elif, and else"
      ]
    },
    {
      "cell_type": "code",
      "metadata": {
        "id": "f-Ss8Dgkx_TL"
      },
      "source": [
        "randominp = input(\"Who loves math the most:  \")\n",
        "#if someone enters the name in capital, we can use this:\n",
        "randominp = randominp.lower()\n",
        "if randominp==\"siddharth\":\n",
        "    print(\"correct\")\n",
        "elif randominp==\"sid\":\n",
        "    print(\"enter full name nextime\")\n",
        "else:\n",
        "    print(\"bad luck\")"
      ],
      "execution_count": null,
      "outputs": []
    },
    {
      "cell_type": "markdown",
      "metadata": {
        "id": "XO1eaTo_yBut"
      },
      "source": [
        "## one more example\n"
      ]
    },
    {
      "cell_type": "code",
      "metadata": {
        "id": "SvOQG2fPyOQj"
      },
      "source": [
        "if 1==1:\n",
        "    print(\"1 is equal to one\")\n",
        "elif 1==1.0:\n",
        "    print(\"1 is equal to 1.0\")\n",
        "else:\n",
        "    print(\"1 is not equal to 1\")\n"
      ],
      "execution_count": null,
      "outputs": []
    },
    {
      "cell_type": "markdown",
      "metadata": {
        "id": "gG5LRtjOyPF-"
      },
      "source": [
        "## The for loop\n",
        "The for loop is like saying: repeat this for (how many) times.\n",
        "You can use it like this\n"
      ]
    },
    {
      "cell_type": "code",
      "metadata": {
        "id": "V_HdOqULyRpd"
      },
      "source": [
        "for i in range(1, 10):\n",
        "    print(i + 1)\n",
        "# i is the looping variable. The value of i will actually start at 0, not 1. Then, it will leave out the ten and end at nine. Chech how many times it will repeat it! 0, 1, 2, 3, 4, 5, 6, 7, 8, 9. Count the numbers. If you got ten, you are correct!\n"
      ],
      "execution_count": null,
      "outputs": []
    },
    {
      "cell_type": "markdown",
      "metadata": {
        "id": "hfpYZpC9yT9n"
      },
      "source": [
        "## The while loop\n",
        "The while loop is like saying: Do this forever please.\n",
        "\n",
        "This is an example\n"
      ]
    },
    {
      "cell_type": "code",
      "metadata": {
        "id": "7rl6iAObyWAc"
      },
      "source": [
        "while True:\n",
        "    #true basically means forever in this case\n",
        "    print(\"hello\")\n"
      ],
      "execution_count": null,
      "outputs": []
    },
    {
      "cell_type": "markdown",
      "metadata": {
        "id": "aGxNXZMVyYHJ"
      },
      "source": [
        "You can also do:\n"
      ]
    },
    {
      "cell_type": "code",
      "metadata": {
        "id": "0M6d-qDsyZtW"
      },
      "source": [
        "while 1==1:\n",
        "    print(\"byebye!\")\n",
        "#if you do:\n",
        "#while 1==2:\n",
        "#that won't work because 1 is not = 2\n"
      ],
      "execution_count": null,
      "outputs": []
    },
    {
      "cell_type": "code",
      "metadata": {
        "id": "2syrqUZtyeqi"
      },
      "source": [
        "# Now for the review!\n",
        "<details>\n",
        "      <summary>\n",
        "      What do you say when you use a for loop\n",
        "      </summary>\n",
        "      Do this (for the number of times)\n",
        "</details>\n",
        "<details>\n",
        "      <summary>\n",
        "      What do you say when you use a while loop\n",
        "      </summary>\n",
        "      Do this forever\n",
        "</details>\n",
        "<details>\n",
        "      <summary>\n",
        "      How do you convert a string to an integer\n",
        "      </summary>\n",
        "      you use the int function\n",
        "</details>\n",
        "<details>\n",
        "      <summary>\n",
        "      What does print do\n",
        "      </summary>\n",
        "      it puts the parameter on the screen\n",
        "</details>\n",
        "<details>\n",
        "      <summary>\n",
        "      how do you make an input\n",
        "      </summary>\n",
        "      you make a variables value an input\n",
        "</details>\n",
        "<details>\n",
        "      <summary>\n",
        "      Do you keep elif after else or before else\n",
        "      </summary>\n",
        "      Before else\n",
        "</details>\n",
        "<details>\n",
        "      <summary>\n",
        "      Lets say I have an input variable which is  called inp. How do I convert inp to an integer\n",
        "      </summary>\n",
        "      inp = int(inp)\n",
        "</details>\n",
        "<details>\n",
        "      <summary>\n",
        "      What does %d mean\n",
        "      </summary>\n",
        "      integer\n",
        "</details>\n",
        "<details>\n",
        "      <summary>\n",
        "      If you use %d and you have 2 variables, what do you use\n",
        "      </summary>\n",
        "      ()\n",
        "</details>\n",
        "<details>\n",
        "      <summary>\n",
        "      If you have 1 variable in the print function which has %d, do you use ()\n",
        "      </summary>\n",
        "      No\n",
        "</details>\n",
        "Hope you enjoyed!!!\n",
        "Thank you for looking."
      ],
      "execution_count": null,
      "outputs": []
    },
    {
      "cell_type": "code",
      "metadata": {
        "id": "f-rN6Lbmygge"
      },
      "source": [
        ""
      ],
      "execution_count": null,
      "outputs": []
    }
  ]
}